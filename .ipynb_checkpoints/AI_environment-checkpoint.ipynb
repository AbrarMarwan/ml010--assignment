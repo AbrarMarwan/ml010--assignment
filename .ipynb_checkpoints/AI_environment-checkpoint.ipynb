{
 "cells": [
  {
   "cell_type": "code",
   "execution_count": 3,
   "id": "1c0c1615-75aa-4fba-8d65-e77ec68d84ec",
   "metadata": {},
   "outputs": [],
   "source": [
    "#مرحبًا، هذه بيئة أبرار ❤️\n"
   ]
  },
  {
   "cell_type": "code",
   "execution_count": 4,
   "id": "4c0082d6-4fd2-486f-9295-1c25849e82ac",
   "metadata": {},
   "outputs": [
    {
     "name": "stdout",
     "output_type": "stream",
     "text": [
      "✅ تم تثبيت Jupyter Notebook بنجاح\n",
      "✅ تم تثبيت Git بنجاح\n",
      "✅ جاري ربط GitHub\n"
     ]
    }
   ],
   "source": [
    "# معلومات عن بيئة العمل\n",
    "print(\"✅ تم تثبيت Jupyter Notebook بنجاح\")\n",
    "print(\"✅ تم تثبيت Git بنجاح\")\n",
    "print(\"✅ جاري ربط GitHub\")\n"
   ]
  },
  {
   "cell_type": "code",
   "execution_count": 5,
   "id": "3e786231-4c44-4990-87c9-6c072eadce57",
   "metadata": {},
   "outputs": [
    {
     "name": "stdout",
     "output_type": "stream",
     "text": [
      "Abrar Marwan\n"
     ]
    }
   ],
   "source": [
    "print(\"Abrar Marwan\")"
   ]
  }
 ],
 "metadata": {
  "kernelspec": {
   "display_name": "Python 3 (ipykernel)",
   "language": "python",
   "name": "python3"
  },
  "language_info": {
   "codemirror_mode": {
    "name": "ipython",
    "version": 3
   },
   "file_extension": ".py",
   "mimetype": "text/x-python",
   "name": "python",
   "nbconvert_exporter": "python",
   "pygments_lexer": "ipython3",
   "version": "3.13.5"
  }
 },
 "nbformat": 4,
 "nbformat_minor": 5
}
